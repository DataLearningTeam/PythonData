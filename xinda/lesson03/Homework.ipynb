{
 "cells": [
  {
   "cell_type": "markdown",
   "metadata": {},
   "source": [
    "## 作业1\n",
    "字典的值可以是字典本身, 以提供更多信息。例如下面的europe字典： \n",
    "\n",
    "1 打印法国首都  \n",
    "2 加入意大利（italy）的首都（roma）和人口（population 59.83）"
   ]
  },
  {
   "cell_type": "code",
   "execution_count": 6,
   "metadata": {
    "collapsed": true
   },
   "outputs": [],
   "source": [
    "europe = { 'spain': { 'capital':'madrid', 'population':46.77 },\n",
    "           'france': { 'capital':'paris', 'population':66.03 },\n",
    "           'germany': { 'capital':'berlin', 'population':80.62 },\n",
    "           'norway': { 'capital':'oslo', 'population':5.084 }}"
   ]
  },
  {
   "cell_type": "markdown",
   "metadata": {},
   "source": [
    "### 打印法首都"
   ]
  },
  {
   "cell_type": "code",
   "execution_count": 8,
   "metadata": {
    "collapsed": false
   },
   "outputs": [
    {
     "data": {
      "text/plain": [
       "'paris'"
      ]
     },
     "execution_count": 8,
     "metadata": {},
     "output_type": "execute_result"
    }
   ],
   "source": [
    "europe['france']['capital']"
   ]
  },
  {
   "cell_type": "markdown",
   "metadata": {},
   "source": [
    "### 加入新成员"
   ]
  },
  {
   "cell_type": "code",
   "execution_count": 9,
   "metadata": {
    "collapsed": false
   },
   "outputs": [
    {
     "data": {
      "text/plain": [
       "{'france': {'capital': 'paris', 'population': 66.03},\n",
       " 'germany': {'capital': 'berlin', 'population': 80.62},\n",
       " 'italy': {'capital': 'roma', 'population': 59.83},\n",
       " 'norway': {'capital': 'oslo', 'population': 5.084},\n",
       " 'spain': {'capital': 'madrid', 'population': 46.77}}"
      ]
     },
     "execution_count": 9,
     "metadata": {},
     "output_type": "execute_result"
    }
   ],
   "source": [
    "europe['italy'] = {'capital': 'roma', 'population': 59.83}\n",
    "europe"
   ]
  },
  {
   "cell_type": "code",
   "execution_count": null,
   "metadata": {
    "collapsed": false
   },
   "outputs": [],
   "source": []
  },
  {
   "cell_type": "markdown",
   "metadata": {},
   "source": [
    "## 作业2\n",
    "\n",
    "找出48与78的最小公倍数\n",
    "\n",
    "假设有数字a和b，a % b = 0，我们就把a称为b的倍数，b称作a的约数。那什么最小公倍数？假设有另外一个数字c，同时满足a % b = 0 和 a % c = 0，我们就称a是b与c的公倍数，而其中最小的那个就是b与c的最小公倍数"
   ]
  },
  {
   "cell_type": "markdown",
   "metadata": {},
   "source": [
    "### 方法1 正常的思维"
   ]
  },
  {
   "cell_type": "code",
   "execution_count": 1,
   "metadata": {
    "collapsed": false
   },
   "outputs": [
    {
     "name": "stdout",
     "output_type": "stream",
     "text": [
      "624\n"
     ]
    }
   ],
   "source": [
    "n1 = 48\n",
    "n2 = 78\n",
    "\n",
    "lcm = n1 * n2\n",
    "k = max(n1, n2)\n",
    "while k < lcm:\n",
    "    if k % n1 == 0 and k % n2 == 0:\n",
    "        lcm = k\n",
    "        break\n",
    "    k += 1\n",
    "\n",
    "print(lcm)"
   ]
  },
  {
   "cell_type": "markdown",
   "metadata": {
    "collapsed": false
   },
   "source": [
    "#### 计算循环次数"
   ]
  },
  {
   "cell_type": "code",
   "execution_count": null,
   "metadata": {
    "collapsed": true
   },
   "outputs": [],
   "source": []
  },
  {
   "cell_type": "markdown",
   "metadata": {},
   "source": [
    "### 方法2 公式法\n",
    "\n",
    "两个数的乘积等于这两个数的最大公约数与最小公倍数的乘积"
   ]
  },
  {
   "cell_type": "code",
   "execution_count": 2,
   "metadata": {
    "collapsed": false
   },
   "outputs": [
    {
     "name": "stdout",
     "output_type": "stream",
     "text": [
      "624.0\n"
     ]
    }
   ],
   "source": [
    "# 找出两个整数的最大公约数\n",
    "n1 = 48\n",
    "n2 = 78\n",
    "gcd = 1 # 初始化最大公约数gcd (greatest common divisor)\n",
    "k = 2 # 可能的gcd\n",
    "while k <= n1 and k <= n2:\n",
    "    if n1 % k ==0 and n2 % k ==0:  # %运算符，取余数\n",
    "        gcd = k\n",
    "    k += 1 # 等价于k = k + 1\n",
    "\n",
    "print(n1 * n2 / gcd)"
   ]
  },
  {
   "cell_type": "code",
   "execution_count": 6,
   "metadata": {
    "collapsed": false
   },
   "outputs": [
    {
     "data": {
      "text/plain": [
       "624.0"
      ]
     },
     "execution_count": 6,
     "metadata": {},
     "output_type": "execute_result"
    }
   ],
   "source": [
    "n1 * n2 / gcd"
   ]
  },
  {
   "cell_type": "markdown",
   "metadata": {},
   "source": [
    "## 作业3 贷款月供计算器\n",
    "\n",
    "* 模仿上面的例子设计一个贷款每月还款计算器函数\n",
    "* 用户可以输入贷款年利率，贷款年限，以及贷款额\n",
    "* 函数打印每月还款额以及还款总额\n",
    "\n",
    "#### 每月还款公式：\n",
    "\n",
    "$每月还款 = 贷款额 * \\frac{月利率}{1-\\frac{1}{(1+月利率)^{还款年限*12}}} $\n",
    "\n",
    "其实就是\n",
    "\n",
    "$每月还款 = 贷款额 * \\frac{月利率*(1+月利率)^{还款年限*12}}{(1+月利率)^{还款年限*12} -1 } $\n",
    "\n",
    "使用**代表次方运算符，比如$3**2 = 9$"
   ]
  },
  {
   "cell_type": "code",
   "execution_count": 2,
   "metadata": {
    "collapsed": false
   },
   "outputs": [],
   "source": [
    "# 提示\n",
    "def mortgage_calculator():\n",
    "\n",
    "    while True:\n",
    "        # 开始你的代码：......\n",
    "        annualInterestRate = float(input(\"输入年利率，比如，8.25: \")) # 输入年利率\n",
    "        monthlyInterestRate = annualInterestRate / 1200 # 转化为月利率\n",
    "        # 输入贷款年限\n",
    "        numberOfYears = int(input(\"请输入您的还款年限：\"))\n",
    "        loanAmount = float(input(\"请输入您的贷款总额（元）：\"))\n",
    "\n",
    "        monthRepayAmount = loanAmount * (monthlyInterestRate / (1 - (1/((1+monthlyInterestRate)**(12 * numberOfYears)))))\n",
    "        factor = (1+monthlyInterestRate) ** (numberOfYears * 12)\n",
    "        monthRepayAmount = round(loanAmount * monthlyInterestRate * factor / (factor - 1), 2)\n",
    "        totalRepayAmount = round(monthRepayAmount * 12 * numberOfYears, 2)\n",
    "        print(\"每月还款金额为：\", str(monthRepayAmount))\n",
    "        print(\"总共还款金额为：\", totalRepayAmount)\n",
    "\n",
    "        isQuit = input(\"请确认是否退出计算器? y/n：\")\n",
    "        if isQuit == 'y':\n",
    "            break\n"
   ]
  },
  {
   "cell_type": "code",
   "execution_count": 3,
   "metadata": {
    "collapsed": false
   },
   "outputs": [
    {
     "name": "stdout",
     "output_type": "stream",
     "text": [
      "输入年利率，比如，8.25: 12\n",
      "请输入您的还款年限：1\n",
      "请输入您的贷款总额（元）：10000\n",
      "每月还款金额为： 888.49\n",
      "总共还款金额为： 10661.88\n",
      "请确认是否退出计算器? y/n：y\n"
     ]
    }
   ],
   "source": [
    "mortgage_calculator()"
   ]
  },
  {
   "cell_type": "code",
   "execution_count": null,
   "metadata": {
    "collapsed": true
   },
   "outputs": [],
   "source": []
  }
 ],
 "metadata": {
  "anaconda-cloud": {},
  "kernelspec": {
   "display_name": "Python [conda root]",
   "language": "python",
   "name": "conda-root-py"
  },
  "language_info": {
   "codemirror_mode": {
    "name": "ipython",
    "version": 3
   },
   "file_extension": ".py",
   "mimetype": "text/x-python",
   "name": "python",
   "nbconvert_exporter": "python",
   "pygments_lexer": "ipython3",
   "version": "3.5.2"
  }
 },
 "nbformat": 4,
 "nbformat_minor": 1
}
