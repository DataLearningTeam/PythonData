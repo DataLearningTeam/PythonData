{
 "cells": [
  {
   "cell_type": "markdown",
   "metadata": {},
   "source": [
    "## 作业 1：\n",
    "\n",
    "下方是一个嵌套的列表，通过对x分割，打印“e”和“g”。  \n",
    "提示：使用 x[ ][ ]的形式"
   ]
  },
  {
   "cell_type": "code",
   "execution_count": 28,
   "metadata": {
    "collapsed": true
   },
   "outputs": [],
   "source": [
    "x = [[\"a\", \"b\", \"c\"],\n",
    "     [\"d\", \"e\", \"f\"],\n",
    "     [\"g\", \"h\", \"i\"]]"
   ]
  },
  {
   "cell_type": "markdown",
   "metadata": {},
   "source": [
    "### 1. 解题"
   ]
  },
  {
   "cell_type": "code",
   "execution_count": 40,
   "metadata": {
    "collapsed": false
   },
   "outputs": [
    {
     "name": "stdout",
     "output_type": "stream",
     "text": [
      "e g\n"
     ]
    }
   ],
   "source": [
    "print(x[1][1], x[2][0])"
   ]
  },
  {
   "cell_type": "markdown",
   "metadata": {},
   "source": [
    "### 2. 问题"
   ]
  },
  {
   "cell_type": "code",
   "execution_count": 45,
   "metadata": {
    "collapsed": false
   },
   "outputs": [
    {
     "data": {
      "text/plain": [
       "'e'"
      ]
     },
     "execution_count": 45,
     "metadata": {},
     "output_type": "execute_result"
    }
   ],
   "source": [
    "a = x[1:2][0]\n",
    "x[1:2][0][1]"
   ]
  },
  {
   "cell_type": "markdown",
   "metadata": {},
   "source": [
    "<font color=\"red\">同学会问这里的结果为什么不是d呢？</font>"
   ]
  },
  {
   "cell_type": "code",
   "execution_count": 59,
   "metadata": {
    "collapsed": false
   },
   "outputs": [
    {
     "name": "stdout",
     "output_type": "stream",
     "text": [
      "[['d', 'e', 'f']]\n"
     ]
    }
   ],
   "source": [
    "print(a)"
   ]
  },
  {
   "cell_type": "markdown",
   "metadata": {},
   "source": [
    "## 作业2\n",
    "\n",
    "以下给出一个团队中成员名和他们各自的微信好友数量，请模仿上述词频的例子，通过for循环找出团队中好友数最多和最少的两个人。"
   ]
  },
  {
   "cell_type": "code",
   "execution_count": 37,
   "metadata": {
    "collapsed": true
   },
   "outputs": [],
   "source": [
    "names = ['小赵','小钱','小孙','小李','小王','小张']\n",
    "friends = [45, 100, 67, 136, 77, 17]"
   ]
  },
  {
   "cell_type": "markdown",
   "metadata": {},
   "source": [
    "\n",
    "### 方法1"
   ]
  },
  {
   "cell_type": "code",
   "execution_count": 47,
   "metadata": {
    "collapsed": false
   },
   "outputs": [
    {
     "name": "stdout",
     "output_type": "stream",
     "text": [
      "小李 136\n"
     ]
    }
   ],
   "source": [
    "maxName = None\n",
    "maxFriend = None\n",
    "for friend in friends:\n",
    "    if maxFriend is None or maxFriend < friend:\n",
    "        maxFriend = friend\n",
    "        index = friends.index(maxFriend)\n",
    "        maxName = names[index]\n",
    "\n",
    "print(maxName, maxFriend)"
   ]
  },
  {
   "cell_type": "code",
   "execution_count": 48,
   "metadata": {
    "collapsed": false
   },
   "outputs": [
    {
     "name": "stdout",
     "output_type": "stream",
     "text": [
      "小张 17\n"
     ]
    }
   ],
   "source": [
    "minName = None\n",
    "minFriend = None\n",
    "for friend in friends:\n",
    "    if minFriend is None or minFriend > friend:\n",
    "        minFriend = friend\n",
    "        index = friends.index(minFriend)\n",
    "        minName = names[index]\n",
    "\n",
    "print(minName, minFriend)"
   ]
  },
  {
   "cell_type": "markdown",
   "metadata": {},
   "source": [
    "### 方法2"
   ]
  },
  {
   "cell_type": "code",
   "execution_count": 51,
   "metadata": {
    "collapsed": false
   },
   "outputs": [
    {
     "name": "stdout",
     "output_type": "stream",
     "text": [
      "小李 136\n"
     ]
    }
   ],
   "source": [
    "maxFriend = max(friends)\n",
    "maxName = names[friends.index(maxFriend)]\n",
    "print(maxName, maxFriend)"
   ]
  },
  {
   "cell_type": "code",
   "execution_count": 52,
   "metadata": {
    "collapsed": false
   },
   "outputs": [
    {
     "name": "stdout",
     "output_type": "stream",
     "text": [
      "小李 17\n"
     ]
    }
   ],
   "source": [
    "minFriend = min(friends)\n",
    "minName = names[friends.index(maxFriend)]\n",
    "print(minName, minFriend)"
   ]
  },
  {
   "cell_type": "markdown",
   "metadata": {},
   "source": [
    "## 词频案例\n",
    "\n",
    "帮大家再过一下词频案例"
   ]
  },
  {
   "cell_type": "code",
   "execution_count": null,
   "metadata": {
    "collapsed": true
   },
   "outputs": [],
   "source": []
  }
 ],
 "metadata": {
  "anaconda-cloud": {},
  "kernelspec": {
   "display_name": "Python [conda root]",
   "language": "python",
   "name": "conda-root-py"
  },
  "language_info": {
   "codemirror_mode": {
    "name": "ipython",
    "version": 3
   },
   "file_extension": ".py",
   "mimetype": "text/x-python",
   "name": "python",
   "nbconvert_exporter": "python",
   "pygments_lexer": "ipython3",
   "version": "3.5.2"
  }
 },
 "nbformat": 4,
 "nbformat_minor": 1
}
