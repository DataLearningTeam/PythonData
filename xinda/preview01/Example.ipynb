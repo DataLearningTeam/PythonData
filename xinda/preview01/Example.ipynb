{
 "cells": [
  {
   "cell_type": "markdown",
   "metadata": {},
   "source": [
    "1 （多选）以下哪些命令可以产生构建一个列表，请选出所有正确选项（12分）\n",
    "\n",
    "``\n",
    "A. [1, 2, 5, 5]\n",
    "B. [1, \"a\", 2, \"b\"]\n",
    "C. [ [1, 3, 5], [2, 4, 6] ]\n",
    "D. [5, \"b\" * 3, 3]\n",
    "``\n",
    "\n",
    "答案：<font color='red'>ABCD</font>"
   ]
  },
  {
   "cell_type": "markdown",
   "metadata": {},
   "source": [
    "2 以下哪个符号可以注释掉一行python代码？注意：注释掉以后的代码将不再运行（6分）\n",
    "\n",
    "``\n",
    "A. *\n",
    "B. #\n",
    "C. (comments)\n",
    "D. //\n",
    "``\n",
    "\n",
    "答案：<font color='red'>B</font> \n",
    "\n",
    "92%的同学答对了"
   ]
  },
  {
   "cell_type": "markdown",
   "metadata": {},
   "source": [
    "3 字符串变量a的赋值是”2”，如何将这个字符串变量转换为数值变量？（6分）\n",
    "\n",
    "``\n",
    "A. a = type(a)\n",
    "B. a = int (a)\n",
    "C. print(a)\n",
    "D. a += 1\n",
    "``\n",
    "\n",
    "答案：<font color='red'>B</font>\n",
    "\n",
    "95%的同学答对了"
   ]
  },
  {
   "cell_type": "markdown",
   "metadata": {},
   "source": [
    "4 请选出以下正确的if条件语句（6分）\n",
    "\n",
    "``\n",
    "A. if a >= 18:\n",
    "B. if (a >= 18)\n",
    "C. if (a => 18):\n",
    "D. if a>= 18\n",
    "``\n",
    "\n",
    "答案：<font color='red'>A</font>\n",
    "\n",
    "96%的同学答对了"
   ]
  },
  {
   "cell_type": "markdown",
   "metadata": {},
   "source": [
    "5 以下哪个命令是正确的方式开始编写一个python函数？（6分）\n",
    "\n",
    "``\n",
    "A. def 函数名称():\n",
    "B. function 函数名称():\n",
    "C. def 函数名称()\n",
    "D. function 函数名称()\n",
    "``\n",
    "\n",
    "答案：<font color='red'>A</font>\n",
    "\n",
    "92%的同学答对了"
   ]
  },
  {
   "cell_type": "markdown",
   "metadata": {},
   "source": [
    "6 选出以下正确的python循环（6分）\n",
    "\n",
    "``\n",
    "A. for a in range(4)\n",
    "B. for a loop 3:\n",
    "C. for a in range(1,4):\n",
    "D. for (a = 0; a < 3; a ++)\n",
    "``\n",
    "\n",
    "答案：<font color='red'>C</font>\n",
    "\n",
    "88%的同学答对了"
   ]
  },
  {
   "cell_type": "markdown",
   "metadata": {},
   "source": [
    "7 选出以下正确的while循环语句（6分）\n",
    "\n",
    "``\n",
    "A. while loop a < 10\n",
    "B. while a < 10:\n",
    "C. while (a < 10)\n",
    "D. while loop a < 10:\n",
    "``\n",
    "\n",
    "答案：<font color='red'>B</font>\n",
    "\n",
    "95%的同学答对了"
   ]
  },
  {
   "cell_type": "markdown",
   "metadata": {},
   "source": [
    "8 如果我们有一个已定义的变量example, 如何正确的查看变量类型？（6分）\n",
    "\n",
    "``\n",
    "A. Type(example)\n",
    "B. example.type\n",
    "C. getType(example)\n",
    "D. type(example)\n",
    "``\n",
    "\n",
    "答案：<font color=\"red\">D</font>\n",
    "\n",
    "92%的同学答对了"
   ]
  },
  {
   "cell_type": "markdown",
   "metadata": {},
   "source": [
    "9 （多选）选出以下所有对字典的正确描述（11分）\n",
    "\n",
    "``\n",
    "A. 字典是不可改变的\n",
    "B. 字典的里的键值对是没有顺序的\n",
    "C. 键作为字典的索引，我们可以自定义；而列表的索引则是默认的非负整数\n",
    "D. 字典的值是可以是任意数据类型\n",
    "``\n",
    "\n",
    "答案：<font color='red'>BCD</font>"
   ]
  },
  {
   "cell_type": "markdown",
   "metadata": {},
   "source": [
    "10 下段的代码试图将相加1到10的整数，解释为什么以下代码不正确（6分）\n",
    "\n",
    "    sum = 0\n",
    "    i = 1\n",
    "    while i <= 10:\n",
    "      sum += i\n",
    "      i = i + 1\n",
    "\n",
    "``\n",
    "A. while循环编写错误\n",
    "B. i = i + 1应改为i += 1\n",
    "C. i = i + 1应该缩进\n",
    "D. Sum = Sum + i 应改为 Sum += i\n",
    "``\n",
    "\n",
    "答案：<font color=\"red\">C</font>\n",
    "\n",
    "76%的同学答对了"
   ]
  },
  {
   "cell_type": "markdown",
   "metadata": {},
   "source": [
    "11 (多选)下面哪些字典是正确创建的？（11分）\n",
    "\n",
    "``\n",
    "A. dict = {1: [1, 2], 3: [3, 4]}\n",
    "B. dict = {1:\"Xiao Ming\", 3: \"Lao Wang\"}\n",
    "C. dict = {“Xiao Ming”: 1, “Lao Wang”: 3}\n",
    "D. dict = {[1,2], 1, [2,3],2}\n",
    "``\n",
    "\n",
    "答案：<font color=\"red\">ABC</font>"
   ]
  },
  {
   "cell_type": "markdown",
   "metadata": {},
   "source": [
    "12 以下代码使用for循环，如果使用while循环应该如何改写？（6分）\n",
    " \n",
    "        sum = 0\n",
    "        for i in range(100):\n",
    "            sum += i\n",
    "\n",
    "方法一：\n",
    "\n",
    "        sum = 0\n",
    "        i = 1\n",
    "        while i <= 100:\n",
    "            sum += i\n",
    "            i += 1\n",
    " \n",
    "方法二：\n",
    "\n",
    "        sum = 0\n",
    "        i = 1\n",
    "        while i < 101:\n",
    "            sum += i\n",
    "            i += 1\n",
    " \n",
    "方法三：\n",
    "\n",
    "        sum = 0\n",
    "        i = 0\n",
    "        while i <= 99:\n",
    "            sum += i\n",
    "            i += 1\n",
    "\n",
    "方法四：\n",
    "\n",
    "        sum = 0\n",
    "        i = 1\n",
    "        while i < 99:\n",
    "            sum += i\n",
    "            i += 1\n",
    "\n",
    "``\n",
    "A. 方法一\n",
    "B. 方法二\n",
    "C. 方法三\n",
    "D. 方法四\n",
    "``\n",
    "\n",
    "答案：<font color='red'>C</font>\n",
    "\n",
    "81%的同学答对了"
   ]
  },
  {
   "cell_type": "markdown",
   "metadata": {},
   "source": [
    "13 我们有列表a = [5, 4, 3, 2, 1]，下面哪行命令可以选出4,3,2?（6分）\n",
    "\n",
    "``\n",
    "A. a[1:4]\n",
    "B. a[2:4]\n",
    "C. a[1:3]\n",
    "D. a[1:]\n",
    "``\n",
    "\n",
    "答案：<font color='red'>A</font>\n",
    "\n",
    "91%的同学答对了"
   ]
  },
  {
   "cell_type": "markdown",
   "metadata": {},
   "source": [
    "14 以下哪个选项可以查看字典dict的键？（6分）\n",
    "\n",
    "``\n",
    "A. dict.values()\n",
    "B. dict.get()\n",
    "C. dict.keys()\n",
    "D. dict[1]\n",
    "``\n",
    "\n",
    "答案：<font color='red'>C</font>\n",
    "\n",
    "85%的同学答对了"
   ]
  }
 ],
 "metadata": {
  "anaconda-cloud": {},
  "kernelspec": {
   "display_name": "Python [conda root]",
   "language": "python",
   "name": "conda-root-py"
  },
  "language_info": {
   "codemirror_mode": {
    "name": "ipython",
    "version": 3
   },
   "file_extension": ".py",
   "mimetype": "text/x-python",
   "name": "python",
   "nbconvert_exporter": "python",
   "pygments_lexer": "ipython3",
   "version": "3.5.2"
  }
 },
 "nbformat": 4,
 "nbformat_minor": 1
}
